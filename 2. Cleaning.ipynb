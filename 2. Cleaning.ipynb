{
 "cells": [
  {
   "cell_type": "markdown",
   "metadata": {},
   "source": [
    "# Data Cleaning\n",
    "Taking the webscrapped results and create similar features to `OnlineNewsPopularity.csv`."
   ]
  },
  {
   "cell_type": "code",
   "execution_count": 4,
   "metadata": {},
   "outputs": [
    {
     "output_type": "execute_result",
     "data": {
      "text/plain": [
       "                                                                                                title  \\\n",
       "URLs                                                                                                    \n",
       "http://mashable.com/2013/01/07/cosmic-events-do...    3 Cosmic Events That Will Spark Doomsday Rumors   \n",
       "http://mashable.com/2013/01/07/astronaut-notre-...   This Astronaut Is Rooting for Notre Dame Tonight   \n",
       "http://mashable.com/2013/01/07/ap-samsung-spons...  AP's Twitter to Begin Displaying Sponsored Tweets   \n",
       "http://mashable.com/2013/01/07/iheartradio-app-...  iHeartRadio Launches Stations Based on Moods, ...   \n",
       "http://mashable.com/2013/01/07/lego-taking-robo...  LEGO Taking Robotics to Next Level with Mindst...   \n",
       "\n",
       "                                                                                                 text  \\\n",
       "URLs                                                                                                    \n",
       "http://mashable.com/2013/01/07/cosmic-events-do...  Take a deep breath; Dec 21, 2012 is behind us....   \n",
       "http://mashable.com/2013/01/07/astronaut-notre-...  When it comes to college football, NASA astron...   \n",
       "http://mashable.com/2013/01/07/ap-samsung-spons...  The Associated Press is the latest news organi...   \n",
       "http://mashable.com/2013/01/07/iheartradio-app-...  LAS VEGAS — Popular digital radio service iHea...   \n",
       "http://mashable.com/2013/01/07/lego-taking-robo...  LEGO Mindstorms EV3LEGO Mindstorms EV3 BoxLego...   \n",
       "\n",
       "                                                                                                 refs  \\\n",
       "URLs                                                                                                    \n",
       "http://mashable.com/2013/01/07/cosmic-events-do...  ['http://news.discovery.com/space/doomsday-pla...   \n",
       "http://mashable.com/2013/01/07/astronaut-notre-...  ['http://www.space.com/16748-international-spa...   \n",
       "http://mashable.com/2013/01/07/ap-samsung-spons...  ['https://mashable.com/category/associated-pre...   \n",
       "http://mashable.com/2013/01/07/iheartradio-app-...  ['https://mashable.com/follow/topics/iHeartRad...   \n",
       "http://mashable.com/2013/01/07/lego-taking-robo...  ['https://mashable.com/category/CES/', 'https:...   \n",
       "\n",
       "                                                    images  videos  \\\n",
       "URLs                                                                 \n",
       "http://mashable.com/2013/01/07/cosmic-events-do...       5       0   \n",
       "http://mashable.com/2013/01/07/astronaut-notre-...       3       0   \n",
       "http://mashable.com/2013/01/07/ap-samsung-spons...       1       0   \n",
       "http://mashable.com/2013/01/07/iheartradio-app-...       1       0   \n",
       "http://mashable.com/2013/01/07/lego-taking-robo...      20       0   \n",
       "\n",
       "                                                                                               topics  \\\n",
       "URLs                                                                                                    \n",
       "http://mashable.com/2013/01/07/cosmic-events-do...  ['Apocalypse', 'Asteroid', 'comet', 'Conversat...   \n",
       "http://mashable.com/2013/01/07/astronaut-notre-...  ['Space', 'college football', 'Entertainment',...   \n",
       "http://mashable.com/2013/01/07/ap-samsung-spons...                   ['Business', 'Media', 'Twitter']   \n",
       "http://mashable.com/2013/01/07/iheartradio-app-...  ['Apps', 'Apps and Software', 'CES', 'iHeartRa...   \n",
       "http://mashable.com/2013/01/07/lego-taking-robo...              ['CES', 'Gadgets', 'gallery', 'Tech']   \n",
       "\n",
       "                                                          date      time  \\\n",
       "URLs                                                                       \n",
       "http://mashable.com/2013/01/07/cosmic-events-do...  2013-01-07  21:25:29   \n",
       "http://mashable.com/2013/01/07/astronaut-notre-...  2013-01-07  22:23:38   \n",
       "http://mashable.com/2013/01/07/ap-samsung-spons...  2013-01-07  19:08:52   \n",
       "http://mashable.com/2013/01/07/iheartradio-app-...  2013-01-07  10:27:49   \n",
       "http://mashable.com/2013/01/07/lego-taking-robo...  2013-01-07  13:11:42   \n",
       "\n",
       "                                                          channel  \n",
       "URLs                                                               \n",
       "http://mashable.com/2013/01/07/cosmic-events-do...          World  \n",
       "http://mashable.com/2013/01/07/astronaut-notre-...  Entertainment  \n",
       "http://mashable.com/2013/01/07/ap-samsung-spons...       Business  \n",
       "http://mashable.com/2013/01/07/iheartradio-app-...           Tech  \n",
       "http://mashable.com/2013/01/07/lego-taking-robo...           Tech  "
      ],
      "text/html": "<div>\n<style scoped>\n    .dataframe tbody tr th:only-of-type {\n        vertical-align: middle;\n    }\n\n    .dataframe tbody tr th {\n        vertical-align: top;\n    }\n\n    .dataframe thead th {\n        text-align: right;\n    }\n</style>\n<table border=\"1\" class=\"dataframe\">\n  <thead>\n    <tr style=\"text-align: right;\">\n      <th></th>\n      <th>title</th>\n      <th>text</th>\n      <th>refs</th>\n      <th>images</th>\n      <th>videos</th>\n      <th>topics</th>\n      <th>date</th>\n      <th>time</th>\n      <th>channel</th>\n    </tr>\n    <tr>\n      <th>URLs</th>\n      <th></th>\n      <th></th>\n      <th></th>\n      <th></th>\n      <th></th>\n      <th></th>\n      <th></th>\n      <th></th>\n      <th></th>\n    </tr>\n  </thead>\n  <tbody>\n    <tr>\n      <th>http://mashable.com/2013/01/07/cosmic-events-doomsday/</th>\n      <td>3 Cosmic Events That Will Spark Doomsday Rumors</td>\n      <td>Take a deep breath; Dec 21, 2012 is behind us....</td>\n      <td>['http://news.discovery.com/space/doomsday-pla...</td>\n      <td>5</td>\n      <td>0</td>\n      <td>['Apocalypse', 'Asteroid', 'comet', 'Conversat...</td>\n      <td>2013-01-07</td>\n      <td>21:25:29</td>\n      <td>World</td>\n    </tr>\n    <tr>\n      <th>http://mashable.com/2013/01/07/astronaut-notre-dame-bcs/</th>\n      <td>This Astronaut Is Rooting for Notre Dame Tonight</td>\n      <td>When it comes to college football, NASA astron...</td>\n      <td>['http://www.space.com/16748-international-spa...</td>\n      <td>3</td>\n      <td>0</td>\n      <td>['Space', 'college football', 'Entertainment',...</td>\n      <td>2013-01-07</td>\n      <td>22:23:38</td>\n      <td>Entertainment</td>\n    </tr>\n    <tr>\n      <th>http://mashable.com/2013/01/07/ap-samsung-sponsored-tweets/</th>\n      <td>AP's Twitter to Begin Displaying Sponsored Tweets</td>\n      <td>The Associated Press is the latest news organi...</td>\n      <td>['https://mashable.com/category/associated-pre...</td>\n      <td>1</td>\n      <td>0</td>\n      <td>['Business', 'Media', 'Twitter']</td>\n      <td>2013-01-07</td>\n      <td>19:08:52</td>\n      <td>Business</td>\n    </tr>\n    <tr>\n      <th>http://mashable.com/2013/01/07/iheartradio-app-perfect-for/</th>\n      <td>iHeartRadio Launches Stations Based on Moods, ...</td>\n      <td>LAS VEGAS — Popular digital radio service iHea...</td>\n      <td>['https://mashable.com/follow/topics/iHeartRad...</td>\n      <td>1</td>\n      <td>0</td>\n      <td>['Apps', 'Apps and Software', 'CES', 'iHeartRa...</td>\n      <td>2013-01-07</td>\n      <td>10:27:49</td>\n      <td>Tech</td>\n    </tr>\n    <tr>\n      <th>http://mashable.com/2013/01/07/lego-taking-robotics-to-next-level-with-mindstorms-ev3/</th>\n      <td>LEGO Taking Robotics to Next Level with Mindst...</td>\n      <td>LEGO Mindstorms EV3LEGO Mindstorms EV3 BoxLego...</td>\n      <td>['https://mashable.com/category/CES/', 'https:...</td>\n      <td>20</td>\n      <td>0</td>\n      <td>['CES', 'Gadgets', 'gallery', 'Tech']</td>\n      <td>2013-01-07</td>\n      <td>13:11:42</td>\n      <td>Tech</td>\n    </tr>\n  </tbody>\n</table>\n</div>"
     },
     "metadata": {},
     "execution_count": 4
    }
   ],
   "source": [
    "import pandas as pd\n",
    "import matplotlib.pyplot as plt\n",
    "import numpy as np\n",
    "from textblob import TextBlob\n",
    "from nltk.sentiment import SentimentIntensityAnalyzer\n",
    "\n",
    "# Results of webscraping\n",
    "raw = pd.read_csv('Data/Raw.csv').rename(columns={'Unnamed: 0':'URLs'}).set_index('URLs').dropna()\n",
    "\n",
    "# Original dataset\n",
    "orig = pd.read_csv('Data/OnlineNewsPopularity.csv', index_col='url')\n",
    "\n",
    "# Dataset to save to\n",
    "clean = pd.DataFrame(orig.loc[raw.index]['shares'])\n",
    "\n",
    "raw.head()"
   ]
  },
  {
   "source": [
    "# Text Features"
   ],
   "cell_type": "markdown",
   "metadata": {}
  },
  {
   "cell_type": "code",
   "execution_count": 5,
   "metadata": {},
   "outputs": [
    {
     "output_type": "stream",
     "name": "stdout",
     "text": [
      "\n",
      "Creating text features from \"title\"\n",
      "\n",
      "38257/38258 Complete (99%)\n",
      "Creating text features from \"text\"\n",
      "\n",
      "38257/38258 Complete (99%)"
     ]
    }
   ],
   "source": [
    "def text_features(data, column):\n",
    "    print('\\nCreating text features from \"%s\"\\n' % column)\n",
    "    text_features = pd.DataFrame()\n",
    "    sia = SentimentIntensityAnalyzer()\n",
    "    for n, index in enumerate(data.index):\n",
    "        text = data.loc[index][column]\n",
    "        features = sia.polarity_scores(text)\n",
    "        features['subjectivity'] = TextBlob(text).subjectivity\n",
    "        features = pd.DataFrame(features,index=[index])\n",
    "        text_features = text_features.append(features)\n",
    "        print('\\r%5d/%d Complete (%d%%)' % (n,len(data.index),n/len(data.index)*100),end='')\n",
    "    text_features.columns = [column+'_'+col for col in ['neg_polarity','neu_polarity','pos_polarity','avg_polarity','subjectivity']]\n",
    "    return text_features\n",
    "\n",
    "def count_tokens(data):\n",
    "    return len(data)\n",
    "\n",
    "# title analysis\n",
    "clean = clean.join(text_features(raw,'title'))\n",
    "clean['n_tokens_title'] = raw['title'].str.split(' ').apply(count_tokens)\n",
    "# content analysis\n",
    "clean = clean.join(text_features(raw,'text'))\n",
    "clean['n_tokens_text'] = raw['text'].str.split(' ').apply(count_tokens)"
   ]
  },
  {
   "source": [
    "# References"
   ],
   "cell_type": "markdown",
   "metadata": {}
  },
  {
   "cell_type": "code",
   "execution_count": 6,
   "metadata": {},
   "outputs": [],
   "source": [
    "references = raw['refs'].str.strip('[]').str.replace('\\'','').str.split(', ')\n",
    "ref = references.iloc[0]\n",
    "\n",
    "def n_refs(ref):\n",
    "    n = len(ref)\n",
    "    m = len([1 for mash in ref if 'mashable' in mash])\n",
    "\n",
    "    return str(n)+' '+str(m)\n",
    "\n",
    "references = references.apply(n_refs).str.split(' ', expand=True)\n",
    "references.columns = ['n_refs','n_self_refs']\n",
    "\n",
    "clean = clean.join(references)"
   ]
  },
  {
   "source": [
    "# Weekday"
   ],
   "cell_type": "markdown",
   "metadata": {}
  },
  {
   "cell_type": "code",
   "execution_count": 7,
   "metadata": {},
   "outputs": [],
   "source": [
    "# get date as a datetime object\n",
    "clean['date'] = pd.to_datetime(raw['date'])\n",
    "# and get the day of the week\n",
    "clean['weekday'] = clean['date'].dt.day_name()"
   ]
  },
  {
   "source": [
    "# Media"
   ],
   "cell_type": "markdown",
   "metadata": {}
  },
  {
   "cell_type": "code",
   "execution_count": 8,
   "metadata": {},
   "outputs": [],
   "source": [
    "clean = clean.join(raw[['images','videos']])"
   ]
  },
  {
   "source": [
    "# Data Channel and Keywords\n",
    "Creating the keywords will be the longest process. We want to identify the worst and best performing keyword per article, with the aggrigations not including the article itself, and then find the max, average, and min of each. "
   ],
   "cell_type": "markdown",
   "metadata": {}
  },
  {
   "cell_type": "code",
   "execution_count": 9,
   "metadata": {},
   "outputs": [],
   "source": [
    "# data channel\n",
    "clean['channel'] = raw['channel']"
   ]
  },
  {
   "cell_type": "code",
   "execution_count": 12,
   "metadata": {},
   "outputs": [],
   "source": [
    "# clean the keyword list such that its a common seperated list\n",
    "# i.e. \"['example_1', 'example_2]\" -> \"example_1, example_2\" \n",
    "keywords = raw['topics'].str.strip('[]').str.replace('\\'','').str.split(', ',expand=True).reset_index()\n",
    "\n",
    "# melt such that each article amd keyword gets its own entry\n",
    "# i.e.                                          \"example_1\": \"key_1\"\n",
    "#      \"example_1\": \"key_1, key_2, key_3\"  ->   \"example_1\": \"key_2\"\n",
    "#                                               \"example_1\": \"key_3\"\n",
    "keywords_melt = pd.melt(keywords,id_vars=['URLs'],value_name='keyword')\n",
    "keywords_melt = keywords_melt.set_index('URLs')['keyword'].dropna()\n",
    "\n",
    "# join with shares\n",
    "keyword_shares = pd.DataFrame(keywords_melt).join(orig['shares'])"
   ]
  },
  {
   "cell_type": "code",
   "execution_count": 13,
   "metadata": {},
   "outputs": [
    {
     "output_type": "stream",
     "name": "stdout",
     "text": [
      "Of 16460 total keywords, 8557 are used only once.\nThis means that only 48% of keywords are shared between two or more articles.\n"
     ]
    }
   ],
   "source": [
    "# how many keywords are we looking at? how many are used more than once?\n",
    "keyword_counts = keyword_shares['keyword'].value_counts()\n",
    "only_once = keyword_counts[keyword_counts == 1]\n",
    "\n",
    "total = len(keyword_shares['keyword'].unique())\n",
    "use_1 = len(only_once)\n",
    "\n",
    "print('Of %d total keywords, %d are used only once.' % (total,use_1))\n",
    "print('This means that only %d%% of keywords are shared between two or more articles.' % ((total-use_1)/total * 100))"
   ]
  },
  {
   "cell_type": "code",
   "execution_count": 14,
   "metadata": {},
   "outputs": [],
   "source": [
    "# drop the keywords only used once\n",
    "keyword_shares = keyword_shares.reset_index().set_index('keyword').drop(index = list(only_once.index))\n",
    "keyword_shares = keyword_shares.reset_index().set_index('index')"
   ]
  },
  {
   "cell_type": "code",
   "execution_count": 15,
   "metadata": {},
   "outputs": [
    {
     "output_type": "stream",
     "name": "stdout",
     "text": [
      "\n",
      "Creating keyword features\n",
      "\n",
      "38256/38257 Complete (99%)"
     ]
    }
   ],
   "source": [
    "print('\\nCreating keyword features\\n')\n",
    "keyword_features = pd.DataFrame()\n",
    "URLs = keyword_shares.index.unique()\n",
    "for n, index in enumerate(URLs):\n",
    "    keyword_entry = dict()\n",
    "    keys = keyword_shares.loc[index]['keyword']\n",
    "    if type(keys) == str:\n",
    "        keys = [keys]\n",
    "    else:\n",
    "        keys = keys.unique()\n",
    "\n",
    "    keyword_entry['n_keywords'] = len(keys)\n",
    "    key_group = keyword_shares.drop(index).reset_index().set_index('keyword')\n",
    "    key_group = key_group.loc[keys].groupby(level=0).agg(['min','mean','max'])\n",
    "\n",
    "    # worst performing keyword\n",
    "    kw_min = key_group.sort_values(('shares', 'mean')).iloc[0]['shares']\n",
    "    keyword_entry['kw_min'] = kw_min.name\n",
    "    keyword_entry['kw_min_min'] = kw_min['min']\n",
    "    keyword_entry['kw_min_avg'] = kw_min['mean']\n",
    "    keyword_entry['kw_min_max'] = kw_min['max']\n",
    "\n",
    "    # worst performing keyword\n",
    "    kw_avg = key_group.sort_values(('shares', 'mean')).iloc[len(key_group)//2]['shares']\n",
    "    keyword_entry['kw_avg'] = kw_avg.name\n",
    "    keyword_entry['kw_avg_min'] = kw_avg['min']\n",
    "    keyword_entry['kw_avg_avg'] = kw_avg['mean']\n",
    "    keyword_entry['kw_avg_max'] = kw_avg['max']\n",
    "\n",
    "    # worst performing keyword\n",
    "    kw_max = key_group.sort_values(('shares', 'mean')).iloc[-1]['shares']\n",
    "    keyword_entry['kw_max'] = kw_max.name\n",
    "    keyword_entry['kw_max_min'] = kw_max['min']\n",
    "    keyword_entry['kw_max_avg'] = kw_max['mean']\n",
    "    keyword_entry['kw_max_max'] = kw_max['max']\n",
    "\n",
    "    keyword_features = keyword_features.append(pd.DataFrame(keyword_entry,index=[index]))\n",
    "    print('\\r%5d/%d Complete (%d%%)' % (n,len(URLs),n/len(URLs)*100),end='')"
   ]
  },
  {
   "cell_type": "markdown",
   "metadata": {},
   "source": [
    "# Join Dataframes\n",
    "Add these new keyword features to the dataset"
   ]
  },
  {
   "cell_type": "code",
   "execution_count": 16,
   "metadata": {},
   "outputs": [],
   "source": [
    "clean = clean.join(keyword_features)"
   ]
  },
  {
   "cell_type": "markdown",
   "metadata": {},
   "source": [
    "# Save Data"
   ]
  },
  {
   "cell_type": "code",
   "execution_count": 17,
   "metadata": {},
   "outputs": [
    {
     "output_type": "execute_result",
     "data": {
      "text/plain": [
       "                                                    shares  \\\n",
       "URLs                                                         \n",
       "http://mashable.com/2013/01/07/cosmic-events-do...    2200   \n",
       "http://mashable.com/2013/01/07/astronaut-notre-...    1200   \n",
       "http://mashable.com/2013/01/07/ap-samsung-spons...     711   \n",
       "http://mashable.com/2013/01/07/iheartradio-app-...    1500   \n",
       "http://mashable.com/2013/01/07/lego-taking-robo...    3900   \n",
       "\n",
       "                                                    title_neg_polarity  \\\n",
       "URLs                                                                     \n",
       "http://mashable.com/2013/01/07/cosmic-events-do...               0.355   \n",
       "http://mashable.com/2013/01/07/astronaut-notre-...               0.000   \n",
       "http://mashable.com/2013/01/07/ap-samsung-spons...               0.000   \n",
       "http://mashable.com/2013/01/07/iheartradio-app-...               0.000   \n",
       "http://mashable.com/2013/01/07/lego-taking-robo...               0.000   \n",
       "\n",
       "                                                    title_neu_polarity  \\\n",
       "URLs                                                                     \n",
       "http://mashable.com/2013/01/07/cosmic-events-do...               0.467   \n",
       "http://mashable.com/2013/01/07/astronaut-notre-...               1.000   \n",
       "http://mashable.com/2013/01/07/ap-samsung-spons...               1.000   \n",
       "http://mashable.com/2013/01/07/iheartradio-app-...               1.000   \n",
       "http://mashable.com/2013/01/07/lego-taking-robo...               1.000   \n",
       "\n",
       "                                                    title_pos_polarity  \\\n",
       "URLs                                                                     \n",
       "http://mashable.com/2013/01/07/cosmic-events-do...               0.178   \n",
       "http://mashable.com/2013/01/07/astronaut-notre-...               0.000   \n",
       "http://mashable.com/2013/01/07/ap-samsung-spons...               0.000   \n",
       "http://mashable.com/2013/01/07/iheartradio-app-...               0.000   \n",
       "http://mashable.com/2013/01/07/lego-taking-robo...               0.000   \n",
       "\n",
       "                                                    title_avg_polarity  \\\n",
       "URLs                                                                     \n",
       "http://mashable.com/2013/01/07/cosmic-events-do...             -0.4404   \n",
       "http://mashable.com/2013/01/07/astronaut-notre-...              0.0000   \n",
       "http://mashable.com/2013/01/07/ap-samsung-spons...              0.0000   \n",
       "http://mashable.com/2013/01/07/iheartradio-app-...              0.0000   \n",
       "http://mashable.com/2013/01/07/lego-taking-robo...              0.0000   \n",
       "\n",
       "                                                    title_subjectivity  \\\n",
       "URLs                                                                     \n",
       "http://mashable.com/2013/01/07/cosmic-events-do...                 0.0   \n",
       "http://mashable.com/2013/01/07/astronaut-notre-...                 0.0   \n",
       "http://mashable.com/2013/01/07/ap-samsung-spons...                 0.0   \n",
       "http://mashable.com/2013/01/07/iheartradio-app-...                 0.0   \n",
       "http://mashable.com/2013/01/07/lego-taking-robo...                 0.0   \n",
       "\n",
       "                                                    n_tokens_title  \\\n",
       "URLs                                                                 \n",
       "http://mashable.com/2013/01/07/cosmic-events-do...               8   \n",
       "http://mashable.com/2013/01/07/astronaut-notre-...               8   \n",
       "http://mashable.com/2013/01/07/ap-samsung-spons...               7   \n",
       "http://mashable.com/2013/01/07/iheartradio-app-...               7   \n",
       "http://mashable.com/2013/01/07/lego-taking-robo...               9   \n",
       "\n",
       "                                                    text_neg_polarity  \\\n",
       "URLs                                                                    \n",
       "http://mashable.com/2013/01/07/cosmic-events-do...              0.079   \n",
       "http://mashable.com/2013/01/07/astronaut-notre-...              0.005   \n",
       "http://mashable.com/2013/01/07/ap-samsung-spons...              0.000   \n",
       "http://mashable.com/2013/01/07/iheartradio-app-...              0.008   \n",
       "http://mashable.com/2013/01/07/lego-taking-robo...              0.007   \n",
       "\n",
       "                                                    text_neu_polarity  \\\n",
       "URLs                                                                    \n",
       "http://mashable.com/2013/01/07/cosmic-events-do...              0.853   \n",
       "http://mashable.com/2013/01/07/astronaut-notre-...              0.847   \n",
       "http://mashable.com/2013/01/07/ap-samsung-spons...              0.938   \n",
       "http://mashable.com/2013/01/07/iheartradio-app-...              0.863   \n",
       "http://mashable.com/2013/01/07/lego-taking-robo...              0.914   \n",
       "\n",
       "                                                    text_pos_polarity  ...  \\\n",
       "URLs                                                                   ...   \n",
       "http://mashable.com/2013/01/07/cosmic-events-do...              0.068  ...   \n",
       "http://mashable.com/2013/01/07/astronaut-notre-...              0.148  ...   \n",
       "http://mashable.com/2013/01/07/ap-samsung-spons...              0.062  ...   \n",
       "http://mashable.com/2013/01/07/iheartradio-app-...              0.129  ...   \n",
       "http://mashable.com/2013/01/07/lego-taking-robo...              0.079  ...   \n",
       "\n",
       "                                                     kw_min_avg  kw_min_max  \\\n",
       "URLs                                                                          \n",
       "http://mashable.com/2013/01/07/cosmic-events-do...  1528.571429      4900.0   \n",
       "http://mashable.com/2013/01/07/astronaut-notre-...  1363.142857      3100.0   \n",
       "http://mashable.com/2013/01/07/ap-samsung-spons...  2947.087408     74100.0   \n",
       "http://mashable.com/2013/01/07/iheartradio-app-...  2577.000000     12300.0   \n",
       "http://mashable.com/2013/01/07/lego-taking-robo...  2681.208511     53100.0   \n",
       "\n",
       "                                                               kw_avg  \\\n",
       "URLs                                                                    \n",
       "http://mashable.com/2013/01/07/cosmic-events-do...              World   \n",
       "http://mashable.com/2013/01/07/astronaut-notre-...             Sports   \n",
       "http://mashable.com/2013/01/07/ap-samsung-spons...            Twitter   \n",
       "http://mashable.com/2013/01/07/iheartradio-app-...  Apps and Software   \n",
       "http://mashable.com/2013/01/07/lego-taking-robo...            Gadgets   \n",
       "\n",
       "                                                   kw_avg_min   kw_avg_avg  \\\n",
       "URLs                                                                         \n",
       "http://mashable.com/2013/01/07/cosmic-events-do...       22.0  3226.473702   \n",
       "http://mashable.com/2013/01/07/astronaut-notre-...       43.0  3117.970755   \n",
       "http://mashable.com/2013/01/07/ap-samsung-spons...       52.0  3339.586439   \n",
       "http://mashable.com/2013/01/07/iheartradio-app-...       47.0  3454.003844   \n",
       "http://mashable.com/2013/01/07/lego-taking-robo...        1.0  3771.445918   \n",
       "\n",
       "                                                   kw_avg_max         kw_max  \\\n",
       "URLs                                                                           \n",
       "http://mashable.com/2013/01/07/cosmic-events-do...   310800.0  Conversations   \n",
       "http://mashable.com/2013/01/07/astronaut-notre-...   200100.0  Entertainment   \n",
       "http://mashable.com/2013/01/07/ap-samsung-spons...   145500.0       Business   \n",
       "http://mashable.com/2013/01/07/iheartradio-app-...   211600.0          Music   \n",
       "http://mashable.com/2013/01/07/lego-taking-robo...   843300.0        gallery   \n",
       "\n",
       "                                                    kw_max_min   kw_max_avg  \\\n",
       "URLs                                                                          \n",
       "http://mashable.com/2013/01/07/cosmic-events-do...        36.0  4405.444294   \n",
       "http://mashable.com/2013/01/07/astronaut-notre-...         5.0  3261.614561   \n",
       "http://mashable.com/2013/01/07/ap-samsung-spons...        44.0  3438.132293   \n",
       "http://mashable.com/2013/01/07/iheartradio-app-...        42.0  3661.511628   \n",
       "http://mashable.com/2013/01/07/lego-taking-robo...       399.0  3969.972222   \n",
       "\n",
       "                                                   kw_max_max  \n",
       "URLs                                                           \n",
       "http://mashable.com/2013/01/07/cosmic-events-do...   690400.0  \n",
       "http://mashable.com/2013/01/07/astronaut-notre-...   652900.0  \n",
       "http://mashable.com/2013/01/07/ap-samsung-spons...   690400.0  \n",
       "http://mashable.com/2013/01/07/iheartradio-app-...   652900.0  \n",
       "http://mashable.com/2013/01/07/lego-taking-robo...    71800.0  \n",
       "\n",
       "[5 rows x 33 columns]"
      ],
      "text/html": "<div>\n<style scoped>\n    .dataframe tbody tr th:only-of-type {\n        vertical-align: middle;\n    }\n\n    .dataframe tbody tr th {\n        vertical-align: top;\n    }\n\n    .dataframe thead th {\n        text-align: right;\n    }\n</style>\n<table border=\"1\" class=\"dataframe\">\n  <thead>\n    <tr style=\"text-align: right;\">\n      <th></th>\n      <th>shares</th>\n      <th>title_neg_polarity</th>\n      <th>title_neu_polarity</th>\n      <th>title_pos_polarity</th>\n      <th>title_avg_polarity</th>\n      <th>title_subjectivity</th>\n      <th>n_tokens_title</th>\n      <th>text_neg_polarity</th>\n      <th>text_neu_polarity</th>\n      <th>text_pos_polarity</th>\n      <th>...</th>\n      <th>kw_min_avg</th>\n      <th>kw_min_max</th>\n      <th>kw_avg</th>\n      <th>kw_avg_min</th>\n      <th>kw_avg_avg</th>\n      <th>kw_avg_max</th>\n      <th>kw_max</th>\n      <th>kw_max_min</th>\n      <th>kw_max_avg</th>\n      <th>kw_max_max</th>\n    </tr>\n    <tr>\n      <th>URLs</th>\n      <th></th>\n      <th></th>\n      <th></th>\n      <th></th>\n      <th></th>\n      <th></th>\n      <th></th>\n      <th></th>\n      <th></th>\n      <th></th>\n      <th></th>\n      <th></th>\n      <th></th>\n      <th></th>\n      <th></th>\n      <th></th>\n      <th></th>\n      <th></th>\n      <th></th>\n      <th></th>\n      <th></th>\n    </tr>\n  </thead>\n  <tbody>\n    <tr>\n      <th>http://mashable.com/2013/01/07/cosmic-events-doomsday/</th>\n      <td>2200</td>\n      <td>0.355</td>\n      <td>0.467</td>\n      <td>0.178</td>\n      <td>-0.4404</td>\n      <td>0.0</td>\n      <td>8</td>\n      <td>0.079</td>\n      <td>0.853</td>\n      <td>0.068</td>\n      <td>...</td>\n      <td>1528.571429</td>\n      <td>4900.0</td>\n      <td>World</td>\n      <td>22.0</td>\n      <td>3226.473702</td>\n      <td>310800.0</td>\n      <td>Conversations</td>\n      <td>36.0</td>\n      <td>4405.444294</td>\n      <td>690400.0</td>\n    </tr>\n    <tr>\n      <th>http://mashable.com/2013/01/07/astronaut-notre-dame-bcs/</th>\n      <td>1200</td>\n      <td>0.000</td>\n      <td>1.000</td>\n      <td>0.000</td>\n      <td>0.0000</td>\n      <td>0.0</td>\n      <td>8</td>\n      <td>0.005</td>\n      <td>0.847</td>\n      <td>0.148</td>\n      <td>...</td>\n      <td>1363.142857</td>\n      <td>3100.0</td>\n      <td>Sports</td>\n      <td>43.0</td>\n      <td>3117.970755</td>\n      <td>200100.0</td>\n      <td>Entertainment</td>\n      <td>5.0</td>\n      <td>3261.614561</td>\n      <td>652900.0</td>\n    </tr>\n    <tr>\n      <th>http://mashable.com/2013/01/07/ap-samsung-sponsored-tweets/</th>\n      <td>711</td>\n      <td>0.000</td>\n      <td>1.000</td>\n      <td>0.000</td>\n      <td>0.0000</td>\n      <td>0.0</td>\n      <td>7</td>\n      <td>0.000</td>\n      <td>0.938</td>\n      <td>0.062</td>\n      <td>...</td>\n      <td>2947.087408</td>\n      <td>74100.0</td>\n      <td>Twitter</td>\n      <td>52.0</td>\n      <td>3339.586439</td>\n      <td>145500.0</td>\n      <td>Business</td>\n      <td>44.0</td>\n      <td>3438.132293</td>\n      <td>690400.0</td>\n    </tr>\n    <tr>\n      <th>http://mashable.com/2013/01/07/iheartradio-app-perfect-for/</th>\n      <td>1500</td>\n      <td>0.000</td>\n      <td>1.000</td>\n      <td>0.000</td>\n      <td>0.0000</td>\n      <td>0.0</td>\n      <td>7</td>\n      <td>0.008</td>\n      <td>0.863</td>\n      <td>0.129</td>\n      <td>...</td>\n      <td>2577.000000</td>\n      <td>12300.0</td>\n      <td>Apps and Software</td>\n      <td>47.0</td>\n      <td>3454.003844</td>\n      <td>211600.0</td>\n      <td>Music</td>\n      <td>42.0</td>\n      <td>3661.511628</td>\n      <td>652900.0</td>\n    </tr>\n    <tr>\n      <th>http://mashable.com/2013/01/07/lego-taking-robotics-to-next-level-with-mindstorms-ev3/</th>\n      <td>3900</td>\n      <td>0.000</td>\n      <td>1.000</td>\n      <td>0.000</td>\n      <td>0.0000</td>\n      <td>0.0</td>\n      <td>9</td>\n      <td>0.007</td>\n      <td>0.914</td>\n      <td>0.079</td>\n      <td>...</td>\n      <td>2681.208511</td>\n      <td>53100.0</td>\n      <td>Gadgets</td>\n      <td>1.0</td>\n      <td>3771.445918</td>\n      <td>843300.0</td>\n      <td>gallery</td>\n      <td>399.0</td>\n      <td>3969.972222</td>\n      <td>71800.0</td>\n    </tr>\n  </tbody>\n</table>\n<p>5 rows × 33 columns</p>\n</div>"
     },
     "metadata": {},
     "execution_count": 17
    }
   ],
   "source": [
    "clean.to_csv('Data/Clean.csv')\n",
    "clean.head()"
   ]
  }
 ],
 "metadata": {
  "kernelspec": {
   "display_name": "Python 3",
   "language": "python",
   "name": "python3"
  },
  "language_info": {
   "codemirror_mode": {
    "name": "ipython",
    "version": 3
   },
   "file_extension": ".py",
   "mimetype": "text/x-python",
   "name": "python",
   "nbconvert_exporter": "python",
   "pygments_lexer": "ipython3",
   "version": "3.8.5"
  }
 },
 "nbformat": 4,
 "nbformat_minor": 4
}